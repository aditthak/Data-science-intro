{
 "cells": [
  {
   "cell_type": "markdown",
   "id": "42f7367a",
   "metadata": {},
   "source": [
    "# Data Science Tools and Ecosystem"
   ]
  },
  {
   "cell_type": "markdown",
   "id": "b6bb8ac2",
   "metadata": {},
   "source": [
    " ### In this notebook, Data Science Tools and Ecosystem are summarized.\n"
   ]
  },
  {
   "cell_type": "markdown",
   "id": "9abf4a17",
   "metadata": {},
   "source": [
    "Some of the popular languages that Data Scientists use are:\n",
    "1. Python\n",
    "2. R\n",
    "3. SQL\n",
    "4. Scala"
   ]
  },
  {
   "cell_type": "markdown",
   "id": "e81705b5",
   "metadata": {},
   "source": [
    "Some of the commonly used libraries used by Data Scientists include:\n",
    "1. Numpy\n",
    "2. Pandas\n",
    "3. SciPy\n",
    "4. Tensorflow\n",
    "5. Matplotlib"
   ]
  },
  {
   "cell_type": "markdown",
   "id": "fb82688c",
   "metadata": {},
   "source": [
    "Data Science Tools\n",
    "1. Tableau\n",
    "2. Excel\n",
    "3. Python\n",
    "4. Apache Hadoop\n",
    "5. Apache Spark"
   ]
  },
  {
   "cell_type": "markdown",
   "id": "24c17496",
   "metadata": {},
   "source": [
    "### Below are a few examples of evaluating arithmetic expressions in Python"
   ]
  },
  {
   "cell_type": "code",
   "execution_count": 1,
   "id": "30418ee1",
   "metadata": {},
   "outputs": [
    {
     "data": {
      "text/plain": [
       "17"
      ]
     },
     "execution_count": 1,
     "metadata": {},
     "output_type": "execute_result"
    }
   ],
   "source": [
    "(3*4)+5\n",
    "#This a simple arithmetic expression to mutiply then add integer"
   ]
  },
  {
   "cell_type": "code",
   "execution_count": 9,
   "id": "99a1fae5",
   "metadata": {},
   "outputs": [
    {
     "name": "stdout",
     "output_type": "stream",
     "text": [
      "3.3333333333333335\n"
     ]
    }
   ],
   "source": [
    "H = 200/60\n",
    "print(H)"
   ]
  },
  {
   "cell_type": "markdown",
   "id": "1593cf85",
   "metadata": {},
   "source": [
    "Objective of this course\n",
    "1. Listed popular data science languages\n",
    "2. Listed popular data science libaries and tools.\n",
    "3. Solved Basic arthimetic expression\n",
    "4. Solved hour to time conversion."
   ]
  },
  {
   "cell_type": "markdown",
   "id": "451edf3c",
   "metadata": {},
   "source": [
    "## Author\n",
    "Aditya Thakur"
   ]
  },
  {
   "cell_type": "code",
   "execution_count": null,
   "id": "0e0bff4e",
   "metadata": {},
   "outputs": [],
   "source": []
  }
 ],
 "metadata": {
  "kernelspec": {
   "display_name": "Python 3 (ipykernel)",
   "language": "python",
   "name": "python3"
  },
  "language_info": {
   "codemirror_mode": {
    "name": "ipython",
    "version": 3
   },
   "file_extension": ".py",
   "mimetype": "text/x-python",
   "name": "python",
   "nbconvert_exporter": "python",
   "pygments_lexer": "ipython3",
   "version": "3.11.5"
  }
 },
 "nbformat": 4,
 "nbformat_minor": 5
}
